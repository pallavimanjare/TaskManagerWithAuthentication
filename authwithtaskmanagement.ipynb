import hashlib
import os
import csv

# File paths
USER_FILE = 'users.txt'
TASK_FILE = 'tasks.txt'
# Function to hash passwords
def hash_password(password):
    return hashlib.sha256(password.encode()).hexdigest()
# Function to register a new user
def register():
    username = input("Enter a username: ")
    password = input("Enter a password: ")
    
    # Check if username already exists
    if os.path.exists(USER_FILE):
        with open(USER_FILE, 'r') as f:
            for line in f:
                stored_username, _ = line.strip().split(',')
                if stored_username == username:
                    print("Username already exists. Please choose a different username.")
                    return
    
    # Hash the password and store the credentials
    hashed_password = hash_password(password)
    with open(USER_FILE, 'a') as f:
        f.write(f"{username},{hashed_password}\n")
    print("Registration successful!")

# Function to login a user
def login():
    username = input("Enter your username: ")
    password = input("Enter your password: ")
    hashed_password = hash_password(password)
    
    # Validate credentials
    if os.path.exists(USER_FILE):
        with open(USER_FILE, 'r') as f:
            for line in f:
                stored_username, stored_password = line.strip().split(',')
                if stored_username == username and stored_password == hashed_password:
                    print("Login successful!")
                    return username
    print("Invalid credentials. Please try again.")
    return None

# Function to add a task
def add_task(username):
    task_description = input("Enter task description: ")
    task_id = hash_password(task_description + username)[:8]  # Generate a unique task ID
    task_status = "Pending"
    
    with open(TASK_FILE, 'a') as f:
        f.write(f"{username},{task_id},{task_description},{task_status}\n")
    print("Task added successfully!")

# Function to view tasks
def view_tasks(username):
    if os.path.exists(TASK_FILE):
        with open(TASK_FILE, 'r') as f:
            tasks_found = False
            for line in f:
                stored_username, task_id, task_description, task_status = line.strip().split(',')
                if stored_username == username:
                    print(f"ID: {task_id}, Description: {task_description}, Status: {task_status}")
                    tasks_found = True
            if not tasks_found:
                print("No tasks found.")
    else:
        print("No tasks found.")
# Function to mark a task as completed
def mark_task_completed(username):
    task_id = input("Enter the task ID to mark as completed: ")
    
    if os.path.exists(TASK_FILE):
        tasks = []
        with open(TASK_FILE, 'r') as f:
            for line in f:
                stored_username, stored_task_id, task_description, task_status = line.strip().split(',')
                if stored_username == username and stored_task_id == task_id:
                    task_status = "Completed"
                tasks.append((stored_username, stored_task_id, task_description, task_status))
        
        with open(TASK_FILE, 'w') as f:
            for task in tasks:
                f.write(','.join(task) + "\n")
        print("Task marked as completed.")
    else:
        print("Task not found.")
# Function to delete a task
def delete_task(username):
    task_id = input("Enter the task ID to delete: ")
    
    if os.path.exists(TASK_FILE):
        tasks = []
        with open(TASK_FILE, 'r') as f:
            for line in f:
                stored_username, stored_task_id, task_description, task_status = line.strip().split(',')
                if not (stored_username == username and stored_task_id == task_id):
                    tasks.append((stored_username, stored_task_id, task_description, task_status))
        
        with open(TASK_FILE, 'w') as f:
            for task in tasks:
                f.write(','.join(task) + "\n")
        print("Task deleted.")
    else:
        print("Task not found.")
        
# Interactive menu function
def menu(username):
    while True:
        print("\nMenu:")
        print("1. Add Task")
        print("2. View Tasks")
        print("3. Mark Task as Completed")
        print("4. Delete Task")
        print("5. Logout")
        
        choice = input("Enter your choice: ")
        
        if choice == '1':
            add_task(username)
        elif choice == '2':
            view_tasks(username)
        elif choice == '3':
            mark_task_completed(username)
        elif choice == '4':
            delete_task(username)
        elif choice == '5':
            break
        else:
            print("Invalid choice. Please try again.")


# Main function to run the program
def main():
    while True:
        print("\nWelcome to Task Manager!")
        print("1. Register")
        print("2. Login")        
        
        choice = input("Enter your choice: ")
        
        if choice == '1':
            register()
        elif choice == '2':
            username = login()
            if username:
                menu(username)
        else:
            print("Invalid choice. Please try again.")

if __name__ == "__main__":
    main()
